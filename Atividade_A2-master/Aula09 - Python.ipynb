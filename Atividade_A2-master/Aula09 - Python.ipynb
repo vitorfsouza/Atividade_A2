{
 "cells": [
  {
   "cell_type": "markdown",
   "metadata": {},
   "source": [
    "Faça um Programa que peça dois números e imprima o maior deles."
   ]
  },
  {
   "cell_type": "code",
   "execution_count": 8,
   "metadata": {},
   "outputs": [
    {
     "name": "stdout",
     "output_type": "stream",
     "text": [
      "Digite um número: 20\n",
      "Digite outro número: 10\n",
      "O maior número é: 20\n"
     ]
    }
   ],
   "source": [
    "x = int(input(\"Digite um número: \"))\n",
    "y = int(input(\"Digite outro número: \"))\n",
    "if x>y:\n",
    "    print(f\"O maior número é: {x}\")\n",
    "    \n",
    "else :\n",
    "    print (f\"O maior número é : {y}\")\n",
    "    "
   ]
  },
  {
   "cell_type": "markdown",
   "metadata": {},
   "source": [
    "Faça um Programa que verifique se uma letra digitada é vogal ou consoante."
   ]
  },
  {
   "cell_type": "code",
   "execution_count": 2,
   "metadata": {},
   "outputs": [
    {
     "name": "stdout",
     "output_type": "stream",
     "text": [
      "Digite uma letra: S\n",
      "S é uma consoante\n"
     ]
    }
   ],
   "source": [
    "l = input(\"Digite uma letra: \")\n",
    "\n",
    "if l.lower() in 'aeiou':\n",
    "    print(l.upper(), \"é uma vogal\")\n",
    "else:\n",
    "    print(l.upper(), \"é uma consoante\")\n",
    " "
   ]
  },
  {
   "cell_type": "markdown",
   "metadata": {},
   "source": [
    "Faça um programa para a leitura de duas notas parciais de um aluno. O programa\n",
    "deve calcular a média alcançada por aluno e apresentar:\n",
    "- A mensagem \"Aprovado\", se a média alcançada for maior ou igual a sete;\n",
    "- A mensagem \"Reprovado\", se a média for menor do que sete;\n",
    "- A mensagem \"Aprovado com Distinção\", se a média for igual a dez."
   ]
  },
  {
   "cell_type": "code",
   "execution_count": 4,
   "metadata": {},
   "outputs": [
    {
     "name": "stdout",
     "output_type": "stream",
     "text": [
      "Digite a primeira nota: 10\n",
      "Digite a segunda nota: 10\n",
      "Aprovado com Distinção\n"
     ]
    }
   ],
   "source": [
    "nota1 = int(input(\"Digite a primeira nota: \"))\n",
    "nota2 = int(input(\"Digite a segunda nota: \"))\n",
    "media = (nota1 + nota2)/2\n",
    "if media == 10:\n",
    "    print(\"Aprovado com Distinção\")\n",
    "elif media >= 7:\n",
    "    print(\"Aprovado\")\n",
    "else:\n",
    "    print(\"Reprovado\")"
   ]
  },
  {
   "cell_type": "markdown",
   "metadata": {},
   "source": [
    "Faça um Programa que leia três números e mostre-os em ordem decrescente"
   ]
  },
  {
   "cell_type": "code",
   "execution_count": 7,
   "metadata": {},
   "outputs": [
    {
     "name": "stdout",
     "output_type": "stream",
     "text": [
      "Digite o primeiro número: 8\n",
      "Digite o segundo número: 9\n",
      "Digite o terceiro número: 5\n",
      "9 8 5\n"
     ]
    }
   ],
   "source": [
    "num1 = input(\"Digite o primeiro número: \")\n",
    "num2 = input(\"Digite o segundo número: \")\n",
    "num3 = input(\"Digite o terceiro número: \")\n",
    "\n",
    "if num1 < num2 and num1 < num3 and num3 < num2:\n",
    "    print(num2,num3,num1)\n",
    "elif num2 < num1 and num2 < num3 and num1 < num3: \n",
    "    print(num3,num1,num2)\n",
    "elif num3 < num1 and num3 < num2 and num1 < num2:     \n",
    "    print(num2,num1,num3)\n",
    "else:\n",
    "    print(num1,num2,num3)"
   ]
  },
  {
   "cell_type": "markdown",
   "metadata": {},
   "source": [
    "As Organizações Tabajara resolveram dar um aumento de salário aos seus\n",
    "colaboradores e lhe contrataram para desenvolver o programa que calculará os\n",
    "reajustes.\n",
    "Faça um programa que recebe o salário de um colaborador e o reajuste segundo o\n",
    "seguinte critério, baseado no salário atual:\n",
    "- salários até R$ 280,00 (incluindo) : aumento de 20%\n",
    "- salários entre R$ 280,00 e R$ 700,00 : aumento de 15%\n",
    "- salários entre R$ 700,00 e R$ 1500,00 : aumento de 10%\n",
    "- salários de R$ 1500,00 em diante : aumento de 5% Após o aumento ser realizado,\n",
    "informe na tela:\n",
    "- o salário antes do reajuste;\n",
    "- o percentual de aumento aplicado;\n",
    "- o valor do aumento;\n",
    "- o novo salário, após o aumento."
   ]
  },
  {
   "cell_type": "code",
   "execution_count": 6,
   "metadata": {},
   "outputs": [
    {
     "name": "stdout",
     "output_type": "stream",
     "text": [
      "Digite o seu salário: 1000\n",
      "Salário antes do reajuste: R$ 1000.00\n",
      "Porcentagem do reajuste: 10%\n",
      "Valor do aumento: R$ 100.00\n",
      "Salário reajustado: R$ 1100.00\n"
     ]
    }
   ],
   "source": [
    "salario = float(input(\"Digite o seu salário: \"))\n",
    "\n",
    "if salario <= 280:\n",
    "    salarioL = ((salario/100)*20) + salario\n",
    "    reajp = '20%'\n",
    "    reajv = (salario/100)*20\n",
    "elif salario > 280 and salario <= 700:\n",
    "    salarioL = salario + (salario/100)*15\n",
    "    reajp = '15%'\n",
    "    reajv = (salario/100)*15\n",
    "elif salario > 700 and salario <= 1500:\n",
    "    salarioL = salario + (salario/100)*10\n",
    "    reajp = '10%'\n",
    "    reajv = (salario/100)*10\n",
    "else:\n",
    "    salarioL = salario + (salario/100)*5\n",
    "    reajp = '5%'\n",
    "    reajv = (salario/100)*5\n",
    "\n",
    "print (\"Salário antes do reajuste: R$ %.2f\" % (salario))\n",
    "print (\"Porcentagem do reajuste:\", reajp)\n",
    "print (\"Valor do aumento: R$ %.2f\" % (reajv))\n",
    "print (\"Salário reajustado: R$ %.2f\" % (salarioL))"
   ]
  },
  {
   "cell_type": "markdown",
   "metadata": {},
   "source": [
    "Faça um Programa que leia um número e exiba o dia correspondente da semana.\n",
    "(1-Domingo, 2- Segunda, etc.), se digitar outro valor deve aparecer valor inválido."
   ]
  },
  {
   "cell_type": "code",
   "execution_count": 8,
   "metadata": {},
   "outputs": [
    {
     "name": "stdout",
     "output_type": "stream",
     "text": [
      "Digite o dia da semana 7\n",
      "O dia da semana é: Sábado\n"
     ]
    }
   ],
   "source": [
    "diaS = int(input(\"Digite o dia da semana \"))\n",
    "\n",
    "if diaS == 1:\n",
    "    print(\"O dia da semana é: Domingo\")\n",
    "elif diaS == 2:\n",
    "    print(\"O dia da semana é: Segunda\")\n",
    "elif diaS == 3:\n",
    "    print(\"O dia da semana é: Terça\")\n",
    "elif diaS == 4:\n",
    "    print(\"O dia da semana é: Quarta\")\n",
    "elif diaS == 5:\n",
    "    print(\"O dia da semana é: Quinta\")\n",
    "elif diaS == 6:\n",
    "    print(\"O dia da semana é: Sexta\")\n",
    "else:\n",
    "    print(\"O dia da semana é: Sábado\")"
   ]
  },
  {
   "cell_type": "markdown",
   "metadata": {},
   "source": [
    "Faça um programa que lê as duas notas parciais obtidas por um aluno numa\n",
    "disciplina ao longo de um semestre, e calcule a sua média. A atribuição de conceitos\n",
    "obedece à tabela abaixo:\n",
    " Média de Aproveitamento Conceito\n",
    " Entre 9.0 e 10.0 A\n",
    " Entre 7.5 e 9.0 B\n",
    " Entre 6.0 e 7.5 C\n",
    " Entre 4.0 e 6.0 D\n",
    " Entre 4.0 e zero E\n",
    "O algoritmo deve mostrar na tela as notas, a média, o conceito correspondente e a\n",
    "mensagem “APROVADO” se o conceito for A, B ou C ou “REPROVADO” se o conceito\n",
    "for D ou E."
   ]
  },
  {
   "cell_type": "code",
   "execution_count": 9,
   "metadata": {},
   "outputs": [
    {
     "name": "stdout",
     "output_type": "stream",
     "text": [
      "Digite sua primeira nota:  10\n",
      "Digite sua segunda nota:  5\n",
      "REPROVADO -> E\n"
     ]
    }
   ],
   "source": [
    "nota1 = float(input(\"Digite sua primeira nota:  \"))\n",
    "nota2 = float(input(\"Digite sua segunda nota:  \"))\n",
    "\n",
    "media = nota1 + nota2/2\n",
    "\n",
    "if media >= 9 and media <= 10:\n",
    "    print(\"APROVADO -> A\")\n",
    "elif media >= 7.5 and media < 9:\n",
    "    print(\"APROVADO -> B\")\n",
    "elif media >= 6 and media < 7.5:\n",
    "    print(\"APROVADO -> C\")\n",
    "elif media >= 4 and media < 6:\n",
    "    print(\"REPROVADO -> D\")\n",
    "else:\n",
    "    print(\"REPROVADO -> E\")"
   ]
  },
  {
   "cell_type": "markdown",
   "metadata": {},
   "source": [
    "Faça um Programa que peça os 3 lados de um triângulo. O programa deverá\n",
    "informar se os valores podem ser um triângulo. Indique, caso os lados formem um\n",
    "triângulo, se o mesmo é: equilátero, isósceles ou escaleno.\n",
    "Dicas:\n",
    "- Três lados formam um triângulo quando a soma de quaisquer dois lados for maior\n",
    "que o terceiro;\n",
    "- Triângulo Equilátero: três lados iguais;\n",
    "- Triângulo Isósceles: quaisquer dois lados iguais;\n",
    "- Triângulo Escaleno: três lados diferentes;"
   ]
  },
  {
   "cell_type": "code",
   "execution_count": 10,
   "metadata": {},
   "outputs": [
    {
     "name": "stdout",
     "output_type": "stream",
     "text": [
      "Digite o tamanho do primeiro lado: 5\n",
      "Digite o segundo lado: 3\n",
      "Digite o terceiro lado: 7\n",
      "Não é um triângulo\n"
     ]
    }
   ],
   "source": [
    "lado1 = input('Digite o tamanho do primeiro lado: ')\n",
    "lado2 = input('Digite o segundo lado: ')\n",
    "lado3 = input('Digite o terceiro lado: ')\n",
    "\n",
    "if lado1 + lado2 > lado3:\n",
    "    if lado1 == lado2 and lado1 == lado3:\n",
    "        print('Triângulo Equilátero')\n",
    "    elif lado1 == lado2 or lado2 == lado3 or lado1 == lado3:\n",
    "        print('Triângulo Isósceles')\n",
    "    elif lado1 != lado2 and lado3 or lado2 != lado1 and lado3 or lado1 != lado3:\n",
    "        print('Triângulo Escaleno')\n",
    "else:\n",
    "    print('Não é um triângulo')"
   ]
  },
  {
   "cell_type": "markdown",
   "metadata": {},
   "source": [
    "Faça um programa que calcule as raízes de uma equação do segundo grau, na\n",
    "forma ax2 + bx + c. O programa deverá pedir os valores de a, b e c e fazer as\n",
    "consistências, informando ao usuário nas seguintes situações:\n",
    "- Se o usuário informar o valor de A igual a zero, a equação não é do segundo grau e\n",
    "o programa não deve fazer pedir os demais valores, sendo encerrado;\n",
    "- Se o delta calculado for negativo, a equação não possui raizes reais. Informe ao\n",
    "usuário e encerre o programa;\n",
    "- Se o delta calculado for igual a zero a equação possui apenas uma raiz real;\n",
    "informe-a ao usuário;\n",
    "- Se o delta for positivo, a equação possui duas raiz reais; informe-as ao usuário;"
   ]
  },
  {
   "cell_type": "code",
   "execution_count": 11,
   "metadata": {},
   "outputs": [
    {
     "name": "stdout",
     "output_type": "stream",
     "text": [
      "Digite o valor de A: 2\n",
      "Digite o valor de B: 10\n",
      "Digite o valor de C: 5\n",
      "A equação resulta em delta 60 e possui duas raizes reais\n"
     ]
    }
   ],
   "source": [
    "a = int(input(\"Digite o valor de A: \"))\n",
    "\n",
    "if a == 0:\n",
    "    print(\"A equação não é do segundo grau\")\n",
    "    \n",
    "else:\n",
    "    b = int(input(\"Digite o valor de B: \"))\n",
    "    c = int(input(\"Digite o valor de C: \"))\n",
    "    delta = (b**2)-(4*a*c)\n",
    "    if delta <0:\n",
    "        print(f\"A equação não possui raizes reais pois o delta resulta em {delta}\")\n",
    "    elif delta == 0:\n",
    "        print(f\"A equação resulta em delta {delta} e possui apenas uma raiz real\")\n",
    "    elif delta > 0:\n",
    "        print(f\"A equação resulta em delta {delta} e possui duas raizes reais\")"
   ]
  },
  {
   "cell_type": "markdown",
   "metadata": {},
   "source": [
    "Faça um Programa para um caixa eletrônico. O programa deverá perguntar ao\n",
    "usuário a valor do saque e depois informar quantas notas de cada valor serão\n",
    "fornecidas. As notas disponíveis serão as de 1, 5, 10, 50 e 100 reais. O valor mínimo é\n",
    "de 10 reais e o máximo de 600 reais. O programa não deve se preocupar com a\n",
    "quantidade de notas existentes na máquina.\n",
    "- Exemplo 1: Para sacar a quantia de 256 reais, o programa fornece duas notas de\n",
    "100, uma nota de 50, uma nota de 5 e uma nota de 1;\n",
    "- Exemplo 2: Para sacar a quantia de 399 reais, o programa fornece três notas de\n",
    "100, uma nota de 50, quatro notas de 10, uma nota de 5 e quatro notas de 1."
   ]
  },
  {
   "cell_type": "code",
   "execution_count": 12,
   "metadata": {},
   "outputs": [
    {
     "name": "stdout",
     "output_type": "stream",
     "text": [
      "Digite o valor do saque: 200\n",
      "2 notas de R$ 100\n"
     ]
    }
   ],
   "source": [
    "saque = int(input(\"Digite o valor do saque: \"))\n",
    "\n",
    "if 10 <= saque <= 600:\n",
    "    notas_cem = saque // 100\n",
    "    saque = saque % 100\n",
    "\n",
    "    notas_cinquenta = saque // 50\n",
    "    saque = saque % 50\n",
    "\n",
    "    notas_dez = saque // 10\n",
    "    saque = saque % 10\n",
    "\n",
    "    notas_cinco = saque // 5\n",
    "    saque = saque % 5\n",
    "\n",
    "    notas_um = saque // 1\n",
    "\n",
    "    if notas_cem > 0:\n",
    "        print(notas_cem, \"notas de R$ 100\")\n",
    "    if notas_cinquenta > 0:\n",
    "        print(notas_cinquenta, \"notas de R$ 50\")\n",
    "    if notas_dez > 0:\n",
    "        print(notas_dez, \"notas de R$ 10\")\n",
    "    if notas_cinco > 0:\n",
    "        print(notas_cinco, \"notas de R$ 5\")\n",
    "    if notas_um > 0:\n",
    "        print(notas_um, \"notas de R$ 1\")\n",
    "              \n",
    "else:\n",
    "    print(\"Nao é possivel fazer o saque\")"
   ]
  },
  {
   "cell_type": "markdown",
   "metadata": {},
   "source": [
    "Faça um programa que faça 5 perguntas para uma pessoa sobre um crime. As\n",
    "perguntas são:\n",
    "\"Telefonou para a vítima?\"\n",
    "\"Esteve no local do crime?\"\n",
    "\"Mora perto da vítima?\"\n",
    "\"Devia para a vítima?\"\n",
    "\"Já trabalhou com a vítima?\"\n",
    "O programa deve no final emitir uma classificação sobre a participação da pessoa no\n",
    "crime. Se a pessoa responder positivamente a 2 questões ela deve ser classificada\n",
    "como \"Suspeita\", entre 3 e 4 como \"Cúmplice\" e 5 como \"Assassino\". Caso contrário,\n",
    "ele será classificado como \"Inocente\"."
   ]
  },
  {
   "cell_type": "code",
   "execution_count": 14,
   "metadata": {},
   "outputs": [
    {
     "name": "stdout",
     "output_type": "stream",
     "text": [
      "Lembre-se 1 para sim e 0 para não\n",
      "Telefonou para a vítima? 0\n",
      "Esteve no local do crime? 0\n",
      "Mora perto da vítima? 0\n",
      "Devia para a vítima? 0\n",
      "Já trabalhou com a vítima? 1\n",
      "Inocente\n"
     ]
    }
   ],
   "source": [
    "print(\"Lembre-se 1 para sim e 0 para não\")\n",
    "\n",
    "p1 = int(input(\"Telefonou para a vítima? \"))\n",
    "p2 = int(input(\"Esteve no local do crime? \"))\n",
    "p3 = int(input(\"Mora perto da vítima? \"))\n",
    "p4 = int(input(\"Devia para a vítima? \"))\n",
    "p5 = int(input(\"Já trabalhou com a vítima? \"))\n",
    "\n",
    "res = p1 + p2 + p3+ p4 + p5\n",
    "\n",
    "if res == 2:\n",
    "    print(\"Suspeita\")\n",
    "elif res == 3 or res == 4:\n",
    "    print(\"Cúmplice\") \n",
    "elif res == 5:\n",
    "    print(\"Assassino\")\n",
    "else:\n",
    "    print(\"Inocente\")"
   ]
  },
  {
   "cell_type": "markdown",
   "metadata": {},
   "source": [
    "Uma fruteira está vendendo frutas com a seguinte tabela de preços:\n",
    " Até 5 Kg Acima de 5 Kg\n",
    "Morango R$ 2,50 por Kg R$ 2,20 por Kg\n",
    "Maçã R$ 1,80 por Kg R$ 1,50 por Kg\n",
    "Se o cliente comprar mais de 8 Kg em frutas ou o valor total da compra ultrapassar\n",
    "R$ 25,00, receberá ainda um desconto de 10% sobre este total. Escreva um\n",
    "algoritmo para ler a quantidade (em Kg) de morangos e a quantidade (em Kg) de\n",
    "maças adquiridas e escreva o valor a ser pago pelo cliente."
   ]
  },
  {
   "cell_type": "code",
   "execution_count": 15,
   "metadata": {},
   "outputs": [
    {
     "name": "stdout",
     "output_type": "stream",
     "text": [
      "Digite a quantidade de morangos:  2\n",
      "Digite a quantidade de maças:  5\n",
      "Quantidade acima do permitido :(\n"
     ]
    }
   ],
   "source": [
    "morango = float(input(\"Digite a quantidade de morangos:  \"))\n",
    "maca   = float(input(\"Digite a quantidade de maças:  \"))\n",
    "\n",
    "if morango < 5 and maca < 5:\n",
    "    quant = morango + maca\n",
    "    p_mo = morango * 2.50\n",
    "    p_ma = maca * 1.50\n",
    "    valor = p_mo + p_ma\n",
    "    if quant > 8 or valor > 25:\n",
    "        des = valor * 10/100\n",
    "        novo = valor - des\n",
    "        print(\"Valor a ser pago {} R$\".format(novo))\n",
    "    else:\n",
    "        print(\"Valor a ser pago {} R$\".format(valor))\n",
    "else:\n",
    "    print(\"Quantidade acima do permitido :(\")"
   ]
  },
  {
   "cell_type": "markdown",
   "metadata": {},
   "source": [
    " Faça um programa que peça uma nota, entre zero e dez. Mostre uma mensagem\n",
    "caso o valor seja inválido e continue pedindo até que o usuário informe um valor\n",
    "válido."
   ]
  },
  {
   "cell_type": "code",
   "execution_count": 18,
   "metadata": {},
   "outputs": [
    {
     "name": "stdout",
     "output_type": "stream",
     "text": [
      "Digite uma nota de 0 à 10:  5\n",
      "O número 5 está no intervalo!\n"
     ]
    }
   ],
   "source": [
    "nota = int(input(\"Digite uma nota de 0 à 10:  \"))\n",
    "           \n",
    "while 0 > nota or 10 < nota:\n",
    "    nota = int(input(\"Digite uma nota de 0 à 10: \"))\n",
    "else:\n",
    "    print(\"O número\",nota,\"está no intervalo!\")"
   ]
  },
  {
   "cell_type": "markdown",
   "metadata": {},
   "source": [
    "Faça um programa que leia e valide as seguintes informações:\n",
    "Nome: maior que 3 caracteres;\n",
    "Idade: entre 0 e 150;\n",
    "Salário: maior que zero;\n",
    "Sexo: 'f' ou 'm';\n",
    "Estado Civil: 's', 'c', 'v', 'd';"
   ]
  },
  {
   "cell_type": "code",
   "execution_count": 19,
   "metadata": {},
   "outputs": [
    {
     "name": "stdout",
     "output_type": "stream",
     "text": [
      "Digite seu nome: Bruna\n",
      "Digite sua idade: 21\n",
      "Digite seu salario: 1000\n",
      "Digite seu sexo m (masculino) ou f (feminino): f\n",
      "Digite seu estado civil s (solteiro), c (casado), v (viuvo) ou d (divorciado): s\n"
     ]
    }
   ],
   "source": [
    "nome = \"a\"\n",
    "while len(nome) <= 3:\n",
    "    nome = input(\"Digite seu nome: \")\n",
    "\n",
    "idade = -1\n",
    "while idade < 0 or idade > 150:\n",
    "    idade = int(input(\"Digite sua idade: \"))\n",
    "\n",
    "salario = 0\n",
    "while salario <= 0:\n",
    "    salario = float(input(\"Digite seu salario: \"))\n",
    "\n",
    "sexo = \"p\"\n",
    "while sexo != \"f\" and sexo != \"m\":\n",
    "    sexo = input(\"Digite seu sexo m (masculino) ou f (feminino): \")\n",
    "\n",
    "estadoCivil = \"n\"\n",
    "while estadoCivil != \"s\" and estadoCivil != \"c\" and estadoCivil != \"v\" and estadoCivil != \"d\":\n",
    "    estadoCivil = input(\"Digite seu estado civil s (solteiro), c (casado), v (viuvo) ou d (divorciado): \")"
   ]
  },
  {
   "cell_type": "markdown",
   "metadata": {},
   "source": [
    "Faça um programa que leia 5 números e informe o maior número"
   ]
  },
  {
   "cell_type": "code",
   "execution_count": 25,
   "metadata": {},
   "outputs": [
    {
     "name": "stdout",
     "output_type": "stream",
     "text": [
      "Digite o primeiro número:  1\n",
      "Digite o segundo número:   5\n",
      "Digite o terceiro número:  7\n",
      "Digite o quarto número:    8\n",
      "Digite o quinto número:    9\n",
      "9\n"
     ]
    }
   ],
   "source": [
    "num1 = int(input(\"Digite o primeiro número:  \"))\n",
    "num2 = int(input(\"Digite o segundo número:   \"))\n",
    "num3 = int(input(\"Digite o terceiro número:  \"))\n",
    "num4 = int(input(\"Digite o quarto número:    \"))\n",
    "num5 = int(input(\"Digite o quinto número:    \"))\n",
    "\n",
    "if num1 > num2 and num1 > num3 and num1 > num4 and num1 > num5:\n",
    "    print(num1)\n",
    "elif num2 > num3 and num2 > num4 and num2 > num5 and num2 > num1:\n",
    "    print(num2)\n",
    "elif num3 > num2 and num3 > num1 and num3 > num4 and num3 > num5:\n",
    "    print(num3)\n",
    "elif num4 > num2 and num4 > num1 and num4 > num3 and num4 > num5:\n",
    "    print(num4)\n",
    "else:\n",
    "    print(num5)"
   ]
  },
  {
   "cell_type": "markdown",
   "metadata": {},
   "source": [
    "Faça um programa que leia 5 números e informe a soma e a média dos números."
   ]
  },
  {
   "cell_type": "code",
   "execution_count": 24,
   "metadata": {},
   "outputs": [
    {
     "name": "stdout",
     "output_type": "stream",
     "text": [
      "Digite o primeiro número:  1\n",
      "Digite o segundo número:   2\n",
      "Digite o terceiro número:  3\n",
      "Digite o quarto número:    4\n",
      "Digite o quinto número:    5\n",
      "Soma: 15      Média:3.0\n"
     ]
    }
   ],
   "source": [
    "num1 = int(input(\"Digite o primeiro número:  \"))\n",
    "num2 = int(input(\"Digite o segundo número:   \"))\n",
    "num3 = int(input(\"Digite o terceiro número:  \"))\n",
    "num4 = int(input(\"Digite o quarto número:    \"))\n",
    "num5 = int(input(\"Digite o quinto número:    \"))\n",
    "\n",
    "soma = num1 + num2 + num3 +num4 +num5\n",
    "media = soma/5\n",
    "\n",
    "print(\"Soma: {}      Média:{}\".format(soma,media))"
   ]
  },
  {
   "cell_type": "markdown",
   "metadata": {},
   "source": [
    " Faça um programa que imprima na tela apenas os números ímpares entre 1 e 50"
   ]
  },
  {
   "cell_type": "code",
   "execution_count": 30,
   "metadata": {},
   "outputs": [
    {
     "name": "stdout",
     "output_type": "stream",
     "text": [
      "1\n",
      "3\n",
      "5\n",
      "7\n",
      "9\n",
      "11\n",
      "13\n",
      "15\n",
      "17\n",
      "19\n",
      "21\n",
      "23\n",
      "25\n",
      "27\n",
      "29\n",
      "31\n",
      "33\n",
      "35\n",
      "37\n",
      "39\n",
      "41\n",
      "43\n",
      "45\n",
      "47\n",
      "49\n"
     ]
    }
   ],
   "source": [
    "for i in range(1,50):\n",
    "         if i % 2 != 0:\n",
    "                 print(i)\n",
    "i += 1"
   ]
  },
  {
   "cell_type": "markdown",
   "metadata": {},
   "source": [
    "Desenvolva um gerador de tabuada, capaz de gerar a tabuada de qualquer\n",
    "número inteiro entre 1 a 10. O usuário deve informar de qual numero ele deseja ver\n",
    "a tabuada. A saída deve ser conforme o exemplo abaixo:\n",
    "Tabuada de 5:\n",
    "5 X 1 = 5\n",
    "5 X 2 = 10\n",
    "...\n",
    "5 X 10 = 50"
   ]
  },
  {
   "cell_type": "code",
   "execution_count": 31,
   "metadata": {},
   "outputs": [
    {
     "name": "stdout",
     "output_type": "stream",
     "text": [
      "Digite o número da tabuada: 2\n",
      "2 X 1 = 2\n",
      "2 X 2 = 4\n",
      "2 X 3 = 6\n",
      "2 X 4 = 8\n",
      "2 X 5 = 10\n",
      "2 X 6 = 12\n",
      "2 X 7 = 14\n",
      "2 X 8 = 16\n",
      "2 X 9 = 18\n",
      "2 X 10 = 20\n"
     ]
    }
   ],
   "source": [
    "tab = int(input('Digite o número da tabuada: '))  \n",
    "inicio = 1\n",
    "while(inicio <= 10):\n",
    "    print(\"{0} X {1} = {2}\".format(tab, inicio, (inicio * tab)))\n",
    "    inicio += 1"
   ]
  },
  {
   "cell_type": "markdown",
   "metadata": {},
   "source": [
    " A série de Fibonacci é formada pela seqüência 1,1,2,3,5,8,13,21,34,55,... Faça um\n",
    "programa capaz de gerar a série até o n−ésimo termo."
   ]
  },
  {
   "cell_type": "code",
   "execution_count": 33,
   "metadata": {},
   "outputs": [
    {
     "name": "stdout",
     "output_type": "stream",
     "text": [
      "0 \n",
      "1 \n",
      "1 \n",
      "2 \n",
      "3 \n",
      "5 \n",
      "8 \n",
      "13 \n",
      "21 \n",
      "34 \n",
      "55 \n",
      "89 \n",
      "\n",
      "Acabou\n"
     ]
    }
   ],
   "source": [
    "a, b = 0, 1\n",
    "n = 99\n",
    "while a < n:\n",
    "    print(a, end=' ')\n",
    "    a, b = b, a+b\n",
    "    print()\n",
    "else:\n",
    "    print(\"\\nAcabou\")"
   ]
  },
  {
   "cell_type": "markdown",
   "metadata": {},
   "source": [
    " Faça um programa que calcule o fatorial de um número inteiro fornecido pelo\n",
    "usuário. Ex.: 5!=5.4.3.2.1=120"
   ]
  },
  {
   "cell_type": "code",
   "execution_count": 34,
   "metadata": {},
   "outputs": [
    {
     "name": "stdout",
     "output_type": "stream",
     "text": [
      "Digite um número 10\n",
      "10! = .9.8.7.6.5.4.3.2.1 = 451\n"
     ]
    }
   ],
   "source": [
    "n = int(input(\"Digite um número \"))\n",
    "i = 1\n",
    "mostrar = \"\"\n",
    "while i < n:\n",
    "    res += n * i\n",
    "    mostrar += str(i) + \".\"\n",
    "    i += 1\n",
    "else:\n",
    "    print(\"{}! = {} = {}\".format(n,mostrar[::-1],res))"
   ]
  },
  {
   "cell_type": "markdown",
   "metadata": {},
   "source": [
    " O Sr. Manoel Joaquim possui uma grande loja de artigos de R$ 1,99, com cerca\n",
    "de 10 caixas. Para agilizar o cálculo de quanto cada cliente deve pagar ele\n",
    "desenvolveu um tabela que contém o número de itens que o cliente comprou e ao\n",
    "lado o valor da conta. Desta forma a atendente do caixa precisa apenas contar\n",
    "quantos itens o cliente está levando e olhar na tabela de preços. Você foi contratado\n",
    "para desenvolver o programa que monta esta tabela de preços, que conterá os\n",
    "preços de 1 até 50 produtos, conforme o exemplo abaixo:\n",
    "Lojas Quase Dois - Tabela de preços\n",
    "1 - R$ 1.99\n",
    "2 - R$ 3.98\n",
    "...\n",
    "50 - R$ 99.50"
   ]
  },
  {
   "cell_type": "code",
   "execution_count": 35,
   "metadata": {},
   "outputs": [
    {
     "name": "stdout",
     "output_type": "stream",
     "text": [
      "Lojas Quase Dois - Tabelas de preços\n",
      "01 - R$ 1.99\n",
      "02 - R$ 3.98\n",
      "03 - R$ 5.97\n",
      "04 - R$ 7.96\n",
      "05 - R$ 9.95\n",
      "06 - R$ 11.94\n",
      "07 - R$ 13.93\n",
      "08 - R$ 15.92\n",
      "09 - R$ 17.91\n",
      "10 - R$ 19.90\n",
      "11 - R$ 21.89\n",
      "12 - R$ 23.88\n",
      "13 - R$ 25.87\n",
      "14 - R$ 27.86\n",
      "15 - R$ 29.85\n",
      "16 - R$ 31.84\n",
      "17 - R$ 33.83\n",
      "18 - R$ 35.82\n",
      "19 - R$ 37.81\n",
      "20 - R$ 39.80\n",
      "21 - R$ 41.79\n",
      "22 - R$ 43.78\n",
      "23 - R$ 45.77\n",
      "24 - R$ 47.76\n",
      "25 - R$ 49.75\n",
      "26 - R$ 51.74\n",
      "27 - R$ 53.73\n",
      "28 - R$ 55.72\n",
      "29 - R$ 57.71\n",
      "30 - R$ 59.70\n",
      "31 - R$ 61.69\n",
      "32 - R$ 63.68\n",
      "33 - R$ 65.67\n",
      "34 - R$ 67.66\n",
      "35 - R$ 69.65\n",
      "36 - R$ 71.64\n",
      "37 - R$ 73.63\n",
      "38 - R$ 75.62\n",
      "39 - R$ 77.61\n",
      "40 - R$ 79.60\n",
      "41 - R$ 81.59\n",
      "42 - R$ 83.58\n",
      "43 - R$ 85.57\n",
      "44 - R$ 87.56\n",
      "45 - R$ 89.55\n",
      "46 - R$ 91.54\n",
      "47 - R$ 93.53\n",
      "48 - R$ 95.52\n",
      "49 - R$ 97.51\n",
      "50 - R$ 99.50\n"
     ]
    }
   ],
   "source": [
    "x = 1\n",
    "valor = 1.99\n",
    "\n",
    "print(\"Lojas Quase Dois - Tabelas de preços\")\n",
    "\n",
    "for x in range(1,51):\n",
    "    print(\"%02.d - R$ %.2f\" % (x,x*valor))\n",
    "    x += 1"
   ]
  },
  {
   "cell_type": "markdown",
   "metadata": {},
   "source": [
    "O Sr. Manoel Joaquim acaba de adquirir uma panificadora e pretende implantar\n",
    "a metodologia da tabelinha, que já é um sucesso na sua loja de 1,99. Você foi\n",
    "contratado para desenvolver o programa que monta a tabela de preços de pães, de\n",
    "1 até 50 pães, a partir do preço do pão informado pelo usuário, conforme o exemplo\n",
    "abaixo:\n",
    "Preço do pão: R$ 0.18\n",
    "Panificadora Pão de Ontem - Tabela de preços\n",
    "1 - R$ 0.18\n",
    "2 - R$ 0.36\n",
    "...\n",
    "50 - R$ 9.00"
   ]
  },
  {
   "cell_type": "code",
   "execution_count": 1,
   "metadata": {},
   "outputs": [
    {
     "name": "stdout",
     "output_type": "stream",
     "text": [
      "Bem-vindo a Loja Tabajara - Para sair digite 0\n",
      "Digite o preço do produto:  5\n",
      "Digite o preço do produto:  10\n",
      "Digite o preço do produto:  8\n",
      "Digite o preço do produto:  0\n",
      "Digite o dinheiro fornecido:  50\n",
      "Produto: 1: R$ 5.0\n",
      "Produto: 2: R$ 10.0\n",
      "Produto: 3: R$ 8.0\n",
      "Produto: 4: R$ 0.0\n",
      "\n",
      " Dinheiro: 50.0 R$\n",
      "Troco: 27.0 R$\n"
     ]
    }
   ],
   "source": [
    "print(\"Bem-vindo a Loja Tabajara - Para sair digite 0\")\n",
    "p = 1\n",
    "i = 1\n",
    "mostrar = \"\"\n",
    "total = 0\n",
    "while p != 0:\n",
    "    p = float(input(\"Digite o preço do produto:  \"))\n",
    "    mostrar += \"Produto: \" + str(i) + \": R$ \" + str(p) + \"\\n\"\n",
    "    total = total + p \n",
    "    i += 1\n",
    "else:\n",
    "    d = float(input(\"Digite o dinheiro fornecido:  \"))\n",
    "    troco = d - total\n",
    "    print(\"{}\\n Dinheiro: {} R$\\nTroco: {} R$\".format(mostrar,d,troco))"
   ]
  },
  {
   "cell_type": "markdown",
   "metadata": {},
   "source": [
    " O Sr. Manoel Joaquim expandiu seus negócios para além dos negócios de 1,99 e\n",
    "agora possui uma loja de conveniências. Faça um programa que implemente uma\n",
    "caixa registradora rudimentar. O programa deverá receber um número\n",
    "desconhecido de valores referentes aos preços das mercadorias. Um valor zero deve\n",
    "ser informado pelo operador para indicar o final da compra. O programa deve então\n",
    "mostrar o total da compra e perguntar o valor em dinheiro que o cliente forneceu,\n",
    "para então calcular e mostrar o valor do troco. Após esta operação, o programa\n",
    "deverá voltar ao ponto inicial, para registrar a próxima compra. A saída deve ser\n",
    "conforme o exemplo abaixo:\n",
    "Lojas Tabajara\n",
    "Produto 1: R$ 2.20\n",
    "Produto 2: R$ 5.80\n",
    "Produto 3: R$ 0\n",
    "Total: R$ 9.00\n",
    "Dinheiro: R$ 20.00\n",
    "Troco: R$ 11.00\n",
    "..."
   ]
  },
  {
   "cell_type": "code",
   "execution_count": 3,
   "metadata": {},
   "outputs": [
    {
     "name": "stdout",
     "output_type": "stream",
     "text": [
      "Bem-vindo a Loja Tabajara - Para sair digite 0 \n",
      "Digite o preço do produto 10\n",
      "Digite o preço do produto 4\n",
      "Digite o preço do produto 30\n",
      "Digite o preço do produto 0\n",
      "Digite o dinheiro fornecido 50\n",
      "Produto: 1: R$ 10.0\n",
      "Produto: 2: R$ 4.0\n",
      "Produto: 3: R$ 30.0\n",
      "Produto: 4: R$ 0.0\n",
      "\n",
      " Dinheiro:R$ 50.0\n",
      "Troco:R$6.0 \n"
     ]
    }
   ],
   "source": [
    "print(\"Bem-vindo a Loja Tabajara - Para sair digite 0 \")\n",
    "p = 1\n",
    "i = 1\n",
    "mostrar = \"\"\n",
    "total = 0\n",
    "while p != 0:\n",
    "    p = float(input(\"Digite o preço do produto \"))\n",
    "    mostrar += \"Produto: \" + str(i) + \": R$ \" + str(p) + \"\\n\"\n",
    "    total = total + p \n",
    "    i += 1\n",
    "else:\n",
    "    d = float(input(\"Digite o dinheiro fornecido \"))\n",
    "    troco = d - total\n",
    "    print(\"{}\\n Dinheiro:R$ {}\\nTroco:R${} \".format(mostrar,d,troco))"
   ]
  },
  {
   "cell_type": "markdown",
   "metadata": {},
   "source": [
    "Foi feita uma estatística em cinco cidades brasileiras para coletar dados sobre\n",
    "acidentes de trânsito. Foram obtidos os seguintes dados:\n",
    "- Código da cidade;\n",
    "- Número de veículos de passeio (em 1999);\n",
    "- Número de acidentes de trânsito com vítimas (em 1999). Deseja-se saber:\n",
    "- Qual o maior e menor índice de acidentes de transito e a que cidade pertence;\n",
    "- Qual a média de veículos nas cinco cidades juntas;\n",
    "- Qual a média de acidentes de trânsito nas cidades com menos de 2.000 veículos de\n",
    "passeio."
   ]
  },
  {
   "cell_type": "code",
   "execution_count": 4,
   "metadata": {},
   "outputs": [
    {
     "name": "stdout",
     "output_type": "stream",
     "text": [
      "Informe o código da cidade 1: 11\n",
      "Informe o número de veiculos de passeio (em 1999) da cidade 1: 50\n",
      "Informe a quantidade de acidentes (em 1999) da cidade 1: 200\n",
      "Informe o código da cidade 2: 4\n",
      "Informe o número de veiculos de passeio (em 1999) da cidade 2: 80\n",
      "Informe a quantidade de acidentes (em 1999) da cidade 2: 100\n",
      "Informe o código da cidade 3: 6\n",
      "Informe o número de veiculos de passeio (em 1999) da cidade 3: 30\n",
      "Informe a quantidade de acidentes (em 1999) da cidade 3: 300\n",
      "Informe o código da cidade 4: 8\n",
      "Informe o número de veiculos de passeio (em 1999) da cidade 4: 54\n",
      "Informe a quantidade de acidentes (em 1999) da cidade 4: 90\n",
      "Informe o código da cidade 5: 20\n",
      "Informe o número de veiculos de passeio (em 1999) da cidade 5: 40\n",
      "Informe a quantidade de acidentes (em 1999) da cidade 5: 120\n",
      "A cidade com maior indice de acidentes é a cidade 6 com 10.00 %\n",
      "A cidade com menor indice de acidentes é a cidade 4 com 1.25 %\n",
      "A media de veiculos nas cidades é 50.80 %\n",
      "A media de acidentes de transito nas cidades com menos de 2.000 veículos é 162.00 %\n"
     ]
    }
   ],
   "source": [
    "somaVeiculos = 0\n",
    "somaAcidentes = 0\n",
    "somaAcidentesMenos2Mil = 0\n",
    "totalCidadesMenos2Mil = 0\n",
    "cidade = 1\n",
    "\n",
    "for i in range(0, 5):\n",
    "    codigo = input(\"Informe o código da cidade %d: \" % cidade)\n",
    "    veiculos = int(input(\"Informe o número de veiculos de passeio (em 1999) da cidade %d: \" % cidade))\n",
    "    acidentes = int(input(\"Informe a quantidade de acidentes (em 1999) da cidade %d: \" % cidade))\n",
    "    cidade += 1\n",
    "    \n",
    "    indiceAcidentes = acidentes / (veiculos)\n",
    "    somaVeiculos += veiculos\n",
    "    \n",
    "    if ('maisAcidentes' not in vars()) or (indiceAcidentes > maisAcidentes):\n",
    "        maisAcidentes = indiceAcidentes\n",
    "        codigoMaisAcidentes = codigo\n",
    "    if ('menosAcidentes' not in vars()) or (indiceAcidentes < menosAcidentes):\n",
    "        menosAcidentes = indiceAcidentes\n",
    "        codigoMenosAcidentes = codigo\n",
    "\n",
    "    if (veiculos < 2000):\n",
    "        somaAcidentesMenos2Mil += acidentes\n",
    "        totalCidadesMenos2Mil += 1\n",
    "\n",
    "print (f\"A cidade com maior indice de acidentes é a cidade {codigoMaisAcidentes} com %.2f\" % (maisAcidentes),\"%\")\n",
    "print (f\"A cidade com menor indice de acidentes é a cidade {codigoMenosAcidentes} com %.2f\" % (menosAcidentes),\"%\")\n",
    "print (\"A media de veiculos nas cidades é %.2f\" % (somaVeiculos / 5.0),\"%\")\n",
    "print (\"A media de acidentes de transito nas cidades com menos de 2.000 veículos é %.2f\" % (somaAcidentesMenos2Mil / (totalCidadesMenos2Mil)),\"%\")"
   ]
  },
  {
   "cell_type": "markdown",
   "metadata": {},
   "source": [
    "Faça um programa que receba o valor de uma dívida e mostre uma tabela com\n",
    "os seguintes dados: valor da dívida, valor dos juros, quantidade de parcelas e valor\n",
    "da parcela.\n",
    "Os juros e a quantidade de parcelas seguem a tabela abaixo:\n",
    "Quantidade de Parcelas % de Juros sobre o valor inicial da dívida\n",
    "1 0\n",
    "3 10\n",
    "6 15\n",
    "9 20\n",
    "12 25"
   ]
  },
  {
   "cell_type": "code",
   "execution_count": 8,
   "metadata": {},
   "outputs": [
    {
     "name": "stdout",
     "output_type": "stream",
     "text": [
      "Informe o valor da divida: 2000\n",
      "Valor da divida\tValor dos Juros\tQuantidade de Parcelas\tValor da Parcela\n",
      "R$ 2000.00 \tR$ 0.00 \t1 \t\t\tR$ 2000.00\n",
      "R$ 2200.00 \tR$ 200.00 \t3 \t\t\tR$ 733.33\n",
      "R$ 2300.00 \tR$ 300.00 \t6 \t\t\tR$ 383.33\n",
      "R$ 2400.00 \tR$ 400.00 \t9 \t\t\tR$ 266.67\n",
      "R$ 2500.00 \tR$ 500.00 \t12 \t\t\tR$ 208.33\n"
     ]
    }
   ],
   "source": [
    "divida = float(input(\"Informe o valor da divida: \"))\n",
    "\n",
    "print(\"Valor da divida\\tValor dos Juros\\tQuantidade de Parcelas\\tValor da Parcela\")\n",
    "    \n",
    "juros = 0\n",
    "for i in [1, 3, 6, 9, 12]:\n",
    "    valorJuros = (divida * (juros / 100.0))\n",
    "    valorDivida = divida + valorJuros\n",
    "    valorParcela = valorDivida / float(i)\n",
    "    print (\"R$ %.2f \\tR$ %.2f \\t%i \\t\\t\\tR$ %.2f\" % (valorDivida, valorJuros, i, valorParcela))\n",
    "    if (i == 1):\n",
    "        juros = 10\n",
    "    else:\n",
    "        juros += 5"
   ]
  },
  {
   "cell_type": "markdown",
   "metadata": {},
   "source": [
    " Faça um programa que mostre os n termos da Série a seguir:\n",
    " S = 1/1 + 2/3 + 3/5 + 4/7 + 5/9 + ... + n/m.\n",
    "Imprima no final a soma da série."
   ]
  },
  {
   "cell_type": "code",
   "execution_count": 5,
   "metadata": {},
   "outputs": [
    {
     "name": "stdout",
     "output_type": "stream",
     "text": [
      "entre com o valor de n: 5\n",
      "8.7\n"
     ]
    }
   ],
   "source": [
    "n = int(input(\"entre com o valor de n: \"))\n",
    "s = 1/n + (2/(n-1)) + (3/(n-2)) + ((n-1)/2) + n\n",
    "print(s)"
   ]
  }
 ],
 "metadata": {
  "kernelspec": {
   "display_name": "Python 3",
   "language": "python",
   "name": "python3"
  },
  "language_info": {
   "codemirror_mode": {
    "name": "ipython",
    "version": 3
   },
   "file_extension": ".py",
   "mimetype": "text/x-python",
   "name": "python",
   "nbconvert_exporter": "python",
   "pygments_lexer": "ipython3",
   "version": "3.6.4"
  }
 },
 "nbformat": 4,
 "nbformat_minor": 2
}
